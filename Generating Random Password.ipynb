{
 "cells": [
  {
   "cell_type": "markdown",
   "id": "eb64c1f7",
   "metadata": {},
   "source": [
    "## Author - Tushar Dalvi "
   ]
  },
  {
   "cell_type": "markdown",
   "id": "9f55f5b6",
   "metadata": {},
   "source": [
    "## Project Name - Generating Random Password [Python]"
   ]
  },
  {
   "cell_type": "code",
   "execution_count": 1,
   "id": "0de72377",
   "metadata": {},
   "outputs": [
    {
     "name": "stdout",
     "output_type": "stream",
     "text": [
      "Enter the length of the password :5\n",
      "Your password is (fO7{\n"
     ]
    }
   ],
   "source": [
    "import random\n",
    "length_password = int(input(\"Enter the length of the password :\"))\n",
    "s1 = \"ABCDEFGHIJKLMNOPQRSTUVWXYZ\"\n",
    "s2 = s1.lower()\n",
    "s3 = \"1234567890\"\n",
    "s4 = \"!@#$%^&*()+/<>:{}[]\"\n",
    "s = s1+ s2+ s3+ s4\n",
    "temp = random.sample(s, length_password)\n",
    "a = \"\".join(temp)\n",
    "print(f\"Your password is {a}\")"
   ]
  },
  {
   "cell_type": "code",
   "execution_count": 2,
   "id": "de70f187",
   "metadata": {},
   "outputs": [],
   "source": [
    "# Generated random password using random module"
   ]
  },
  {
   "cell_type": "code",
   "execution_count": 3,
   "id": "df7e0c53",
   "metadata": {},
   "outputs": [],
   "source": [
    "# Now generating random password using string module"
   ]
  },
  {
   "cell_type": "code",
   "execution_count": 4,
   "id": "e7a481ce",
   "metadata": {},
   "outputs": [
    {
     "name": "stdout",
     "output_type": "stream",
     "text": [
      "enter the length of password: 7\n",
      " Your password is7X+Yk*?\n"
     ]
    }
   ],
   "source": [
    "import random\n",
    "import string\n",
    "length_password = int(input(\"enter the length of password: \"))\n",
    "lower = string.ascii_lowercase\n",
    "upper = string.ascii_uppercase\n",
    "digits = string.digits\n",
    "symbols = string.punctuation\n",
    "\n",
    "S = lower + upper + digits + symbols\n",
    "\n",
    "temp = random.sample(S, length_password)\n",
    "\n",
    "a = \"\".join(temp)\n",
    "\n",
    "print(f\" Your password is{a}\")"
   ]
  },
  {
   "cell_type": "code",
   "execution_count": null,
   "id": "af1c1e4e",
   "metadata": {},
   "outputs": [],
   "source": []
  },
  {
   "cell_type": "markdown",
   "id": "514d3832",
   "metadata": {},
   "source": [
    "## Thank You"
   ]
  }
 ],
 "metadata": {
  "kernelspec": {
   "display_name": "Python 3",
   "language": "python",
   "name": "python3"
  },
  "language_info": {
   "codemirror_mode": {
    "name": "ipython",
    "version": 3
   },
   "file_extension": ".py",
   "mimetype": "text/x-python",
   "name": "python",
   "nbconvert_exporter": "python",
   "pygments_lexer": "ipython3",
   "version": "3.8.8"
  }
 },
 "nbformat": 4,
 "nbformat_minor": 5
}
